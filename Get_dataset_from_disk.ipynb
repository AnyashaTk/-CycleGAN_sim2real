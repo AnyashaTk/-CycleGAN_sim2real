{
 "cells": [
  {
   "cell_type": "code",
   "execution_count": 2,
   "id": "cc8592ed",
   "metadata": {},
   "outputs": [
    {
     "name": "stdout",
     "output_type": "stream",
     "text": [
      "True\n"
     ]
    }
   ],
   "source": [
    "import yadisk\n",
    "\n",
    "\n",
    "# Ann's token: fa54cb9253d9442ab52773987b7b4d79 or AQAAAAA3RRciAADLWxPBjTfUF0XImh04cN9dP4E\n",
    "# Your token: \n",
    "# Get there: https://ramziv.com/article/8\n",
    "\n",
    "y = yadisk.YaDisk(id='fa54cb9253d9442ab52773987b7b4d79', secret='872a037c7d1a4c83b30f71442b18a40f', token=\"AQAAAAA3RRciAADLWxPBjTfUF0XImh04cN9dP4E\")\n",
    "# или\n",
    "# y = yadisk.YaDisk(\"<id-приложения>\", \"<secret-приложения>\", \"<токен>\")\n",
    "\n",
    "# Проверяет, валиден ли токен\n",
    "print(y.check_token())\n"
   ]
  },
  {
   "cell_type": "code",
   "execution_count": 3,
   "id": "7ec07b7b",
   "metadata": {},
   "outputs": [
    {
     "name": "stdout",
     "output_type": "stream",
     "text": [
      "['antivirus_status', 'file', 'size', 'public_key', 'sha256', 'embedded', 'name', 'exif', 'resource_id', 'custom_properties', 'public_url', 'share', 'modified', 'created', 'photoslice_time', 'mime_type', 'path', 'preview', 'comment_ids', 'type', 'media_type', 'md5', 'revision']\n"
     ]
    }
   ],
   "source": [
    "\n",
    "# Получает общую информацию о диске\n",
    "# print(y.get_disk_info())\n",
    "\n",
    "# Выводит содержимое \"/some/path\"\n",
    "print(list(list(y.listdir(\"/gan-research/perfect\"))[0]))\n",
    "\n",
    "# Загружает \"file_to_upload.txt\" в \"/destination.txt\"\n",
    "# y.upload(\"./perfect/test/A/05001.png\")\n",
    "\n",
    "\n",
    "\n",
    "# # То же самое\n",
    "# with open(\"./perfect/test/A/05001.png\", \"rb\") as f:\n",
    "#     y.upload(f, \"/destination.txt\")\n",
    "\n",
    "# # Скачивает \"/some-file-to-download.txt\" в \"downloaded.txt\"\n",
    "# y.download(\"/some-file-to-download.txt\", \"downloaded.txt\")\n",
    "\n",
    "# # Безвозвратно удаляет \"/file-to-remove\"\n",
    "# y.remove(\"/file-to-remove\", permanently=True)\n",
    "\n",
    "# # Создаёт новую папку \"/test-dir\"\n",
    "# print(y.mkdir(\"/test-dir\"))"
   ]
  },
  {
   "cell_type": "code",
   "execution_count": 4,
   "id": "29b8e56b",
   "metadata": {},
   "outputs": [],
   "source": [
    "import zipfile"
   ]
  },
  {
   "cell_type": "code",
   "execution_count": 5,
   "id": "de036214",
   "metadata": {},
   "outputs": [],
   "source": [
    "# y.download(src_path=\"/gan-research/perfect/test/A/05001.png\", path_or_file='/home/ubuntu/CycleGAN-PyTorch/05001.png' )\n",
    "y.download(src_path=\"/gan-research/perfect.zip\", path_or_file='/home/ubuntu/CycleGAN-PyTorch/perfect.zip' )\n",
    "\n",
    "\n",
    "import zipfile\n",
    "with zipfile.ZipFile('/home/ubuntu/CycleGAN-PyTorch/perfect.zip', 'r') as zip_ref:\n",
    "    zip_ref.extractall(\"/home/ubuntu/CycleGAN-PyTorch/data/\")"
   ]
  },
  {
   "cell_type": "code",
   "execution_count": null,
   "id": "9d0518ee",
   "metadata": {},
   "outputs": [],
   "source": []
  }
 ],
 "metadata": {
  "kernelspec": {
   "display_name": "Python 3",
   "language": "python",
   "name": "python3"
  },
  "language_info": {
   "codemirror_mode": {
    "name": "ipython",
    "version": 3
   },
   "file_extension": ".py",
   "mimetype": "text/x-python",
   "name": "python",
   "nbconvert_exporter": "python",
   "pygments_lexer": "ipython3",
   "version": "3.6.9"
  }
 },
 "nbformat": 4,
 "nbformat_minor": 5
}
